{
 "cells": [
  {
   "cell_type": "code",
   "execution_count": 2,
   "metadata": {},
   "outputs": [],
   "source": [
    "import os\n",
    "import json\n",
    "from azure.identity import DefaultAzureCredential\n",
    "from azure.digitaltwins.core import DigitalTwinsClient"
   ]
  },
  {
   "cell_type": "code",
   "execution_count": 3,
   "metadata": {},
   "outputs": [],
   "source": [
    "cred = DefaultAzureCredential()\n",
    "client = DigitalTwinsClient(credential=cred, endpoint=\"https://ccdigitaltwins.api.eus2.digitaltwins.azure.net\")"
   ]
  },
  {
   "cell_type": "code",
   "execution_count": 19,
   "metadata": {},
   "outputs": [
    {
     "name": "stdout",
     "output_type": "stream",
     "text": [
      "{'$dtId': 'environment-mxchip', '$etag': 'W/\"1d16dbfd-fb9c-4c03-b731-58a9591d7b4a\"', 'humidity': 49.12, 'temperature': 31.56, 'pressure': 986.02, '$metadata': {'$model': 'dtmi:example:Environment;1', '$lastUpdateTime': '2023-12-22T21:31:26.2676005Z', 'humidity': {'lastUpdateTime': '2023-12-22T21:31:26.2676005Z'}, 'temperature': {'lastUpdateTime': '2023-12-22T21:31:26.2676005Z'}, 'pressure': {'lastUpdateTime': '2023-12-22T21:31:26.2676005Z'}}}\n",
      "{'$dtId': 'accelerometer-mxchip', '$etag': 'W/\"c1a343ea-9538-4a4c-b374-c34f36c6dd82\"', 'accelerometerX': -339.64, 'accelerometerY': -526.24, 'accelerometerZ': 808.73, '$metadata': {'$model': 'dtmi:example:Accelerometer;1', '$lastUpdateTime': '2023-12-22T21:31:06.2572045Z', 'accelerometerX': {'lastUpdateTime': '2023-12-22T21:31:06.2572045Z'}, 'accelerometerY': {'lastUpdateTime': '2023-12-22T21:31:06.2572045Z'}, 'accelerometerZ': {'lastUpdateTime': '2023-12-22T21:31:06.2572045Z'}}}\n",
      "{'$dtId': 'mxchip', '$etag': 'W/\"ceb14301-d23f-471b-aa65-0346dc8143f6\"', 'Name': 'mxchip', '$metadata': {'$model': 'dtmi:example:MXChip;1', '$lastUpdateTime': '2023-12-22T19:13:53.3391035Z', 'Name': {'lastUpdateTime': '2023-12-22T19:13:53.3391035Z'}}}\n",
      "{'$dtId': 'gyroscope-mxchip', '$etag': 'W/\"7761a4c1-f76d-49fd-a62e-d91c9d2f6b49\"', 'gyroscopeX': 140, 'gyroscopeY': -70, 'gyroscopeZ': 140, '$metadata': {'$model': 'dtmi:example:Gyroscope;1', '$lastUpdateTime': '2023-12-22T21:31:16.3130825Z', 'gyroscopeX': {'lastUpdateTime': '2023-12-22T21:31:16.3130825Z'}, 'gyroscopeY': {'lastUpdateTime': '2023-12-22T21:31:16.3130825Z'}, 'gyroscopeZ': {'lastUpdateTime': '2023-12-22T21:31:16.3130825Z'}}}\n",
      "{'$dtId': 'magnetometer-mxchip', '$etag': 'W/\"3969af79-ca3b-47aa-81bc-2cb25f489aba\"', 'magnetometerX': 259.5, 'magnetometerY': 303, 'magnetometerZ': -714, '$metadata': {'$model': 'dtmi:example:Magnetometer;1', '$lastUpdateTime': '2023-12-22T21:31:36.5599117Z', 'magnetometerX': {'lastUpdateTime': '2023-12-22T21:31:36.5599117Z'}, 'magnetometerY': {'lastUpdateTime': '2023-12-22T21:31:36.5599117Z'}, 'magnetometerZ': {'lastUpdateTime': '2023-12-22T21:31:36.5599117Z'}}}\n"
     ]
    }
   ],
   "source": [
    "twin_list = client.query_twins(\"SELECT * FROM digitaltwins\")\n",
    "for twin in twin_list:\n",
    "    print(twin)"
   ]
  },
  {
   "cell_type": "code",
   "execution_count": 5,
   "metadata": {},
   "outputs": [
    {
     "data": {
      "text/plain": [
       "{'$dtId': 'accelerometer-mxchip',\n",
       " '$etag': 'W/\"134ed192-a354-4713-beae-e6570fda661f\"',\n",
       " 'accelerometerX': -9.82,\n",
       " 'accelerometerY': -44.52,\n",
       " 'accelerometerZ': 1030.35,\n",
       " '$metadata': {'$model': 'dtmi:example:Accelerometer;1',\n",
       "  '$lastUpdateTime': '2023-12-22T21:29:46.2831357Z',\n",
       "  'accelerometerX': {'lastUpdateTime': '2023-12-22T21:29:46.2831357Z'},\n",
       "  'accelerometerY': {'lastUpdateTime': '2023-12-22T21:29:46.2831357Z'},\n",
       "  'accelerometerZ': {'lastUpdateTime': '2023-12-22T21:29:46.2831357Z'}}}"
      ]
     },
     "execution_count": 5,
     "metadata": {},
     "output_type": "execute_result"
    }
   ],
   "source": [
    "twin = client.get_digital_twin(\"accelerometer-mxchip\")\n",
    "twin"
   ]
  },
  {
   "cell_type": "code",
   "execution_count": 33,
   "metadata": {},
   "outputs": [
    {
     "data": {
      "text/plain": [
       "[{'op': 'replace', 'path': '/accelerometerX', 'value': 666},\n",
       " {'op': 'replace', 'path': '/accelerometerY', 'value': 666},\n",
       " {'op': 'replace', 'path': '/accelerometerZ', 'value': 666}]"
      ]
     },
     "execution_count": 33,
     "metadata": {},
     "output_type": "execute_result"
    }
   ],
   "source": [
    "update_twin_data = [{\"op\": \"replace\", \"path\": \"/accelerometerX\", \"value\": 666},{\"op\": \"replace\", \"path\": \"/accelerometerY\", \"value\": 666},{\"op\": \"replace\", \"path\": \"/accelerometerZ\", \"value\": 666}]\n",
    "update_twin_data"
   ]
  },
  {
   "cell_type": "code",
   "execution_count": 34,
   "metadata": {},
   "outputs": [],
   "source": [
    "client.update_digital_twin(\"accelerometer-mxchip\", update_twin_data)"
   ]
  },
  {
   "cell_type": "code",
   "execution_count": null,
   "metadata": {},
   "outputs": [],
   "source": []
  }
 ],
 "metadata": {
  "kernelspec": {
   "display_name": "Python 3",
   "language": "python",
   "name": "python3"
  },
  "language_info": {
   "codemirror_mode": {
    "name": "ipython",
    "version": 3
   },
   "file_extension": ".py",
   "mimetype": "text/x-python",
   "name": "python",
   "nbconvert_exporter": "python",
   "pygments_lexer": "ipython3",
   "version": "3.11.7"
  }
 },
 "nbformat": 4,
 "nbformat_minor": 2
}
